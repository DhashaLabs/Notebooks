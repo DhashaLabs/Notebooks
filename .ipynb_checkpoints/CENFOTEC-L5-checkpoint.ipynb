{
 "cells": [
  {
   "cell_type": "code",
   "execution_count": 6,
   "metadata": {},
   "outputs": [],
   "source": [
    "import numpy as np\n",
    "import math as mt\n",
    "import scipy as sp\n",
    "from scipy import stats\n",
    "from numpy import random\n",
    "# uniform random numbers in [0,1]\n",
    "dataOne = random.rand(5,5)\n"
   ]
  },
  {
   "cell_type": "code",
   "execution_count": 8,
   "metadata": {},
   "outputs": [
    {
     "data": {
      "text/plain": [
       "array([[0.18609148, 0.19674596, 0.31618923, 0.98231238, 0.72680184],\n",
       "       [0.43966495, 0.29382593, 0.69145734, 0.14750131, 0.15709379],\n",
       "       [0.43504176, 0.65502756, 0.30910315, 0.57578008, 0.86687712],\n",
       "       [0.72332338, 0.97425582, 0.73956164, 0.10395443, 0.47170851],\n",
       "       [0.4710664 , 0.64783807, 0.52331966, 0.48026274, 0.71391699]])"
      ]
     },
     "execution_count": 8,
     "metadata": {},
     "output_type": "execute_result"
    }
   ],
   "source": [
    "dataOne"
   ]
  },
  {
   "cell_type": "code",
   "execution_count": null,
   "metadata": {},
   "outputs": [],
   "source": []
  }
 ],
 "metadata": {
  "kernelspec": {
   "display_name": "Python 3",
   "language": "python",
   "name": "python3"
  },
  "language_info": {
   "codemirror_mode": {
    "name": "ipython",
    "version": 3
   },
   "file_extension": ".py",
   "mimetype": "text/x-python",
   "name": "python",
   "nbconvert_exporter": "python",
   "pygments_lexer": "ipython3",
   "version": "3.7.4"
  }
 },
 "nbformat": 4,
 "nbformat_minor": 2
}
